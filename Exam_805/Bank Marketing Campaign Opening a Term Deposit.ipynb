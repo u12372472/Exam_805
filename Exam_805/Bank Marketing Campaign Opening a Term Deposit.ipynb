{
 "cells": [
  {
   "cell_type": "markdown",
   "metadata": {},
   "source": [
    "## Importing the libraries"
   ]
  },
  {
   "cell_type": "code",
   "execution_count": 30,
   "metadata": {},
   "outputs": [],
   "source": [
    "'''Main'''\n",
    "import numpy as np\n",
    "import pandas as pd\n",
    "import os\n",
    "import pyodbc\n",
    "\n",
    "'''Data Viz'''\n",
    "import matplotlib.pyplot as plt\n",
    "import seaborn as sns\n",
    "color = sns.color_palette()\n",
    "import matplotlib as mpl\n",
    "import getpass\n",
    "from pylab import rcParams\n",
    "from scipy import stats\n",
    "%matplotlib inline\n",
    "pd.set_option('display.float_format', lambda x: '%.3f' % x)"
   ]
  },
  {
   "cell_type": "markdown",
   "metadata": {},
   "source": [
    "## What is a Term Deposit?"
   ]
  },
  {
   "cell_type": "markdown",
   "metadata": {},
   "source": [
    "A Term deposit is a deposit that a bank or a financial institurion offers with a fixed rate (often better than just opening deposit account) in which your money will be returned back at a specific maturity time.\n",
    "(https://www.investopedia.com/terms/t/termdeposit.asp)"
   ]
  },
  {
   "cell_type": "markdown",
   "metadata": {},
   "source": [
    "## Loading the datasets"
   ]
  },
  {
   "cell_type": "code",
   "execution_count": 31,
   "metadata": {},
   "outputs": [
    {
     "data": {
      "text/html": [
       "<div>\n",
       "<style scoped>\n",
       "    .dataframe tbody tr th:only-of-type {\n",
       "        vertical-align: middle;\n",
       "    }\n",
       "\n",
       "    .dataframe tbody tr th {\n",
       "        vertical-align: top;\n",
       "    }\n",
       "\n",
       "    .dataframe thead th {\n",
       "        text-align: right;\n",
       "    }\n",
       "</style>\n",
       "<table border=\"1\" class=\"dataframe\">\n",
       "  <thead>\n",
       "    <tr style=\"text-align: right;\">\n",
       "      <th></th>\n",
       "      <th>Unnamed: 0</th>\n",
       "      <th>Unnamed: 0.1</th>\n",
       "      <th>age</th>\n",
       "      <th>job</th>\n",
       "      <th>marital</th>\n",
       "      <th>education</th>\n",
       "      <th>default</th>\n",
       "      <th>housing</th>\n",
       "      <th>loan</th>\n",
       "      <th>contact</th>\n",
       "      <th>...</th>\n",
       "      <th>campaign</th>\n",
       "      <th>pdays</th>\n",
       "      <th>previous</th>\n",
       "      <th>poutcome</th>\n",
       "      <th>emp.var.rate</th>\n",
       "      <th>cons.price.idx</th>\n",
       "      <th>cons.conf.idx</th>\n",
       "      <th>euribor3m</th>\n",
       "      <th>nr.employed</th>\n",
       "      <th>y</th>\n",
       "    </tr>\n",
       "  </thead>\n",
       "  <tbody>\n",
       "    <tr>\n",
       "      <th>0</th>\n",
       "      <td>0</td>\n",
       "      <td>0</td>\n",
       "      <td>56</td>\n",
       "      <td>housemaid</td>\n",
       "      <td>married</td>\n",
       "      <td>basic.4y</td>\n",
       "      <td>no</td>\n",
       "      <td>no</td>\n",
       "      <td>no</td>\n",
       "      <td>telephone</td>\n",
       "      <td>...</td>\n",
       "      <td>1</td>\n",
       "      <td>999</td>\n",
       "      <td>0</td>\n",
       "      <td>nonexistent</td>\n",
       "      <td>1.100</td>\n",
       "      <td>93.994</td>\n",
       "      <td>-36.400</td>\n",
       "      <td>4.857</td>\n",
       "      <td>5191.000</td>\n",
       "      <td>no</td>\n",
       "    </tr>\n",
       "    <tr>\n",
       "      <th>1</th>\n",
       "      <td>1</td>\n",
       "      <td>1</td>\n",
       "      <td>57</td>\n",
       "      <td>services</td>\n",
       "      <td>married</td>\n",
       "      <td>high.school</td>\n",
       "      <td>unknown</td>\n",
       "      <td>no</td>\n",
       "      <td>no</td>\n",
       "      <td>telephone</td>\n",
       "      <td>...</td>\n",
       "      <td>1</td>\n",
       "      <td>999</td>\n",
       "      <td>0</td>\n",
       "      <td>nonexistent</td>\n",
       "      <td>1.100</td>\n",
       "      <td>93.994</td>\n",
       "      <td>-36.400</td>\n",
       "      <td>4.857</td>\n",
       "      <td>5191.000</td>\n",
       "      <td>no</td>\n",
       "    </tr>\n",
       "    <tr>\n",
       "      <th>2</th>\n",
       "      <td>2</td>\n",
       "      <td>2</td>\n",
       "      <td>37</td>\n",
       "      <td>services</td>\n",
       "      <td>married</td>\n",
       "      <td>high.school</td>\n",
       "      <td>no</td>\n",
       "      <td>yes</td>\n",
       "      <td>no</td>\n",
       "      <td>telephone</td>\n",
       "      <td>...</td>\n",
       "      <td>1</td>\n",
       "      <td>999</td>\n",
       "      <td>0</td>\n",
       "      <td>nonexistent</td>\n",
       "      <td>1.100</td>\n",
       "      <td>93.994</td>\n",
       "      <td>-36.400</td>\n",
       "      <td>4.857</td>\n",
       "      <td>5191.000</td>\n",
       "      <td>no</td>\n",
       "    </tr>\n",
       "    <tr>\n",
       "      <th>3</th>\n",
       "      <td>3</td>\n",
       "      <td>3</td>\n",
       "      <td>40</td>\n",
       "      <td>admin.</td>\n",
       "      <td>married</td>\n",
       "      <td>basic.6y</td>\n",
       "      <td>no</td>\n",
       "      <td>no</td>\n",
       "      <td>no</td>\n",
       "      <td>telephone</td>\n",
       "      <td>...</td>\n",
       "      <td>1</td>\n",
       "      <td>999</td>\n",
       "      <td>0</td>\n",
       "      <td>nonexistent</td>\n",
       "      <td>1.100</td>\n",
       "      <td>93.994</td>\n",
       "      <td>-36.400</td>\n",
       "      <td>4.857</td>\n",
       "      <td>5191.000</td>\n",
       "      <td>no</td>\n",
       "    </tr>\n",
       "    <tr>\n",
       "      <th>4</th>\n",
       "      <td>4</td>\n",
       "      <td>4</td>\n",
       "      <td>56</td>\n",
       "      <td>services</td>\n",
       "      <td>married</td>\n",
       "      <td>high.school</td>\n",
       "      <td>no</td>\n",
       "      <td>no</td>\n",
       "      <td>yes</td>\n",
       "      <td>telephone</td>\n",
       "      <td>...</td>\n",
       "      <td>1</td>\n",
       "      <td>999</td>\n",
       "      <td>0</td>\n",
       "      <td>nonexistent</td>\n",
       "      <td>1.100</td>\n",
       "      <td>93.994</td>\n",
       "      <td>-36.400</td>\n",
       "      <td>4.857</td>\n",
       "      <td>5191.000</td>\n",
       "      <td>no</td>\n",
       "    </tr>\n",
       "  </tbody>\n",
       "</table>\n",
       "<p>5 rows × 23 columns</p>\n",
       "</div>"
      ],
      "text/plain": [
       "   Unnamed: 0  Unnamed: 0.1  age        job  marital    education  default  \\\n",
       "0           0             0   56  housemaid  married     basic.4y       no   \n",
       "1           1             1   57   services  married  high.school  unknown   \n",
       "2           2             2   37   services  married  high.school       no   \n",
       "3           3             3   40     admin.  married     basic.6y       no   \n",
       "4           4             4   56   services  married  high.school       no   \n",
       "\n",
       "  housing loan    contact  ... campaign pdays  previous     poutcome  \\\n",
       "0      no   no  telephone  ...        1   999         0  nonexistent   \n",
       "1      no   no  telephone  ...        1   999         0  nonexistent   \n",
       "2     yes   no  telephone  ...        1   999         0  nonexistent   \n",
       "3      no   no  telephone  ...        1   999         0  nonexistent   \n",
       "4      no  yes  telephone  ...        1   999         0  nonexistent   \n",
       "\n",
       "   emp.var.rate  cons.price.idx cons.conf.idx  euribor3m  nr.employed   y  \n",
       "0         1.100          93.994       -36.400      4.857     5191.000  no  \n",
       "1         1.100          93.994       -36.400      4.857     5191.000  no  \n",
       "2         1.100          93.994       -36.400      4.857     5191.000  no  \n",
       "3         1.100          93.994       -36.400      4.857     5191.000  no  \n",
       "4         1.100          93.994       -36.400      4.857     5191.000  no  \n",
       "\n",
       "[5 rows x 23 columns]"
      ]
     },
     "execution_count": 31,
     "metadata": {},
     "output_type": "execute_result"
    }
   ],
   "source": [
    "df = pd.read_csv(\"C:/Users/eddie/Desktop/Exams/Exam 805/Python/bank_additional_full_2.csv\",sep =',')\n",
    "df.head()"
   ]
  },
  {
   "cell_type": "code",
   "execution_count": 32,
   "metadata": {},
   "outputs": [
    {
     "data": {
      "text/plain": [
       "(7908096, 23)"
      ]
     },
     "execution_count": 32,
     "metadata": {},
     "output_type": "execute_result"
    }
   ],
   "source": [
    "df.shape"
   ]
  },
  {
   "cell_type": "markdown",
   "metadata": {},
   "source": [
    "# Company information \n",
    "\n",
    "There has been a revenue decline for the Portuguese bank and they would like to know what actions to take. After investigation, we found out that the root cause is that their clients are not depositing as frequently as before. Knowing that term deposits allow banks to hold onto a deposit for a specific amount of time, so banks can invest in higher gain financial products to make a profit. In addition, banks also hold better chance to persuade term deposit clients into buying other products such as funds or insurance to further increase their revenues. As a result, the Portuguese bank would like to identify existing clients that have higher chance to subscribe for a term deposit and focus marketing effort on such clients."
   ]
  },
  {
   "cell_type": "markdown",
   "metadata": {},
   "source": [
    "## Datasets\n",
    "* It is a dataset that describing Portugal bank marketing campaigns results.Conducted campaigns were based mostly on direct phone calls, offering bank client to place a term deposit. If after all marking afforts client had agreed to place deposit - target variable marked 'yes', otherwise 'no'\n",
    "\n",
    "Source of the data: https://archive.ics.uci.edu/ml/datasets/bank+marketing"
   ]
  },
  {
   "cell_type": "markdown",
   "metadata": {},
   "source": [
    "## Banking Marketing Campaign data\n",
    "* Technical aspects of the data."
   ]
  },
  {
   "cell_type": "markdown",
   "metadata": {},
   "source": [
    "\n",
    "* The dataset was downloaded from Kaggle in Comma-separate Values (CSV) format.\n",
    "* The dataset have 7 908 096 rows of loan application that was appcated by the bank with 22 features.\n",
    "* The size of dataset was 2.2 GB for appcated loans applications."
   ]
  },
  {
   "cell_type": "markdown",
   "metadata": {},
   "source": [
    "## Attributes Description:"
   ]
  },
  {
   "cell_type": "markdown",
   "metadata": {},
   "source": [
    "For the propose of this assignment will pick up 5 columns to analysis as the\n",
    "table is too wide to analysis all 21 columns."
   ]
  },
  {
   "cell_type": "markdown",
   "metadata": {},
   "source": [
    "### Bank client data:"
   ]
  },
  {
   "cell_type": "markdown",
   "metadata": {},
   "source": [
    "* 1 - age: (numeric)\n",
    "* 2 - job: type of job (categorical: 'admin.','blue-collar','entrepreneur','housemaid','management','retired','self-employed','services','student','technician','unemployed','unknown')\n",
    "* 3 - marital: marital status (categorical: 'divorced','married','single','unknown'; note: 'divorced' means divorced or widowed)\n",
    "* 4 - education: (categorical: primary, secondary, tertiary and unknown)\n",
    "* 5 - default: has credit in default? (categorical: 'no','yes','unknown')\n",
    "* 6 - housing: has housing loan? (categorical: 'no','yes','unknown')\n",
    "* 7 - loan: has personal loan? (categorical: 'no','yes','unknown')\n",
    "* 8 - balance: Balance of the individual."
   ]
  },
  {
   "cell_type": "markdown",
   "metadata": {},
   "source": [
    "###  Related with the last contact of the current campaign:"
   ]
  },
  {
   "cell_type": "markdown",
   "metadata": {},
   "source": [
    "* 8 - contact: contact communication type (categorical: 'cellular','telephone')\n",
    "* 9 - month: last contact month of year (categorical: 'jan', 'feb', 'mar', apr, may, jun, jul, aug, sep, oct, 'nov', 'dec')\n",
    "* 10 - day: last contact day of the week (categorical: 'mon','tue','wed','thu','fri')\n",
    "* 11 - duration: last contact duration, in seconds (numeric). Important note: this attribute highly affects the output target (e.g., if duration=0 then y='no'). Yet, the duration is not known before a call is performed. Also, after the end of the call y is obviously known. Thus, this input should only be included for benchmark purposes and should be discarded if the intention is to have a realistic predictive model."
   ]
  },
  {
   "cell_type": "markdown",
   "metadata": {},
   "source": [
    "### other attributes:"
   ]
  },
  {
   "cell_type": "markdown",
   "metadata": {},
   "source": [
    "* 12 - campaign: number of contacts performed during this campaign and for this client (numeric, includes last contact)\n",
    "* 13 - pdays: number of days that passed by after the client was last contacted from a previous campaign (numeric; 999 means client was not previously contacted)\n",
    "* 14 - previous: number of contacts performed before this campaign and for this client (numeric)\n",
    "* 15 - poutcome: outcome of the previous marketing campaign (categorical: 'failure','nonexistent','success')\n",
    "\n",
    "\n",
    "Output variable (desired target):\n",
    "* 21 - y - has the client subscribed a term deposit? (binary: 'yes','no')"
   ]
  },
  {
   "cell_type": "markdown",
   "metadata": {},
   "source": [
    "## Data Cleaning - Analysis"
   ]
  },
  {
   "cell_type": "code",
   "execution_count": 35,
   "metadata": {},
   "outputs": [],
   "source": [
    "def resumetable(df):\n",
    "    print(f\"Dataset Shape: {df.shape}\")\n",
    "    summary = pd.DataFrame(df.dtypes,columns=['dtypes'])\n",
    "    \n",
    "    summary = summary.reset_index()\n",
    "    summary['Name'] = summary['index']\n",
    "    summary = summary[['Name','dtypes']]\n",
    "    \n",
    "    summary['Total value'] = 7908096\n",
    "    summary['Uniques'] = df.nunique().values\n",
    "    summary['Missing/Blanks'] = df.isnull().sum().values    \n",
    "    \n",
    "    return summary"
   ]
  },
  {
   "cell_type": "code",
   "execution_count": 36,
   "metadata": {},
   "outputs": [
    {
     "name": "stdout",
     "output_type": "stream",
     "text": [
      "Dataset Shape: (7908096, 23)\n"
     ]
    },
    {
     "data": {
      "text/html": [
       "<div>\n",
       "<style scoped>\n",
       "    .dataframe tbody tr th:only-of-type {\n",
       "        vertical-align: middle;\n",
       "    }\n",
       "\n",
       "    .dataframe tbody tr th {\n",
       "        vertical-align: top;\n",
       "    }\n",
       "\n",
       "    .dataframe thead th {\n",
       "        text-align: right;\n",
       "    }\n",
       "</style>\n",
       "<table border=\"1\" class=\"dataframe\">\n",
       "  <thead>\n",
       "    <tr style=\"text-align: right;\">\n",
       "      <th></th>\n",
       "      <th>Name</th>\n",
       "      <th>dtypes</th>\n",
       "      <th>Total value</th>\n",
       "      <th>Uniques</th>\n",
       "      <th>Missing/Blanks</th>\n",
       "    </tr>\n",
       "  </thead>\n",
       "  <tbody>\n",
       "    <tr>\n",
       "      <th>0</th>\n",
       "      <td>Unnamed: 0</td>\n",
       "      <td>int64</td>\n",
       "      <td>7908096</td>\n",
       "      <td>2636032</td>\n",
       "      <td>0</td>\n",
       "    </tr>\n",
       "    <tr>\n",
       "      <th>1</th>\n",
       "      <td>Unnamed: 0.1</td>\n",
       "      <td>int64</td>\n",
       "      <td>7908096</td>\n",
       "      <td>41188</td>\n",
       "      <td>0</td>\n",
       "    </tr>\n",
       "    <tr>\n",
       "      <th>2</th>\n",
       "      <td>age</td>\n",
       "      <td>int64</td>\n",
       "      <td>7908096</td>\n",
       "      <td>78</td>\n",
       "      <td>0</td>\n",
       "    </tr>\n",
       "    <tr>\n",
       "      <th>3</th>\n",
       "      <td>job</td>\n",
       "      <td>object</td>\n",
       "      <td>7908096</td>\n",
       "      <td>12</td>\n",
       "      <td>0</td>\n",
       "    </tr>\n",
       "    <tr>\n",
       "      <th>4</th>\n",
       "      <td>marital</td>\n",
       "      <td>object</td>\n",
       "      <td>7908096</td>\n",
       "      <td>4</td>\n",
       "      <td>0</td>\n",
       "    </tr>\n",
       "    <tr>\n",
       "      <th>5</th>\n",
       "      <td>education</td>\n",
       "      <td>object</td>\n",
       "      <td>7908096</td>\n",
       "      <td>8</td>\n",
       "      <td>0</td>\n",
       "    </tr>\n",
       "    <tr>\n",
       "      <th>6</th>\n",
       "      <td>default</td>\n",
       "      <td>object</td>\n",
       "      <td>7908096</td>\n",
       "      <td>3</td>\n",
       "      <td>0</td>\n",
       "    </tr>\n",
       "    <tr>\n",
       "      <th>7</th>\n",
       "      <td>housing</td>\n",
       "      <td>object</td>\n",
       "      <td>7908096</td>\n",
       "      <td>3</td>\n",
       "      <td>0</td>\n",
       "    </tr>\n",
       "    <tr>\n",
       "      <th>8</th>\n",
       "      <td>loan</td>\n",
       "      <td>object</td>\n",
       "      <td>7908096</td>\n",
       "      <td>3</td>\n",
       "      <td>0</td>\n",
       "    </tr>\n",
       "    <tr>\n",
       "      <th>9</th>\n",
       "      <td>contact</td>\n",
       "      <td>object</td>\n",
       "      <td>7908096</td>\n",
       "      <td>2</td>\n",
       "      <td>0</td>\n",
       "    </tr>\n",
       "    <tr>\n",
       "      <th>10</th>\n",
       "      <td>month</td>\n",
       "      <td>object</td>\n",
       "      <td>7908096</td>\n",
       "      <td>10</td>\n",
       "      <td>0</td>\n",
       "    </tr>\n",
       "    <tr>\n",
       "      <th>11</th>\n",
       "      <td>day_of_week</td>\n",
       "      <td>object</td>\n",
       "      <td>7908096</td>\n",
       "      <td>5</td>\n",
       "      <td>0</td>\n",
       "    </tr>\n",
       "    <tr>\n",
       "      <th>12</th>\n",
       "      <td>duration</td>\n",
       "      <td>int64</td>\n",
       "      <td>7908096</td>\n",
       "      <td>1544</td>\n",
       "      <td>0</td>\n",
       "    </tr>\n",
       "    <tr>\n",
       "      <th>13</th>\n",
       "      <td>campaign</td>\n",
       "      <td>int64</td>\n",
       "      <td>7908096</td>\n",
       "      <td>42</td>\n",
       "      <td>0</td>\n",
       "    </tr>\n",
       "    <tr>\n",
       "      <th>14</th>\n",
       "      <td>pdays</td>\n",
       "      <td>int64</td>\n",
       "      <td>7908096</td>\n",
       "      <td>27</td>\n",
       "      <td>0</td>\n",
       "    </tr>\n",
       "    <tr>\n",
       "      <th>15</th>\n",
       "      <td>previous</td>\n",
       "      <td>int64</td>\n",
       "      <td>7908096</td>\n",
       "      <td>8</td>\n",
       "      <td>0</td>\n",
       "    </tr>\n",
       "    <tr>\n",
       "      <th>16</th>\n",
       "      <td>poutcome</td>\n",
       "      <td>object</td>\n",
       "      <td>7908096</td>\n",
       "      <td>3</td>\n",
       "      <td>0</td>\n",
       "    </tr>\n",
       "    <tr>\n",
       "      <th>17</th>\n",
       "      <td>emp.var.rate</td>\n",
       "      <td>float64</td>\n",
       "      <td>7908096</td>\n",
       "      <td>10</td>\n",
       "      <td>0</td>\n",
       "    </tr>\n",
       "    <tr>\n",
       "      <th>18</th>\n",
       "      <td>cons.price.idx</td>\n",
       "      <td>float64</td>\n",
       "      <td>7908096</td>\n",
       "      <td>26</td>\n",
       "      <td>0</td>\n",
       "    </tr>\n",
       "    <tr>\n",
       "      <th>19</th>\n",
       "      <td>cons.conf.idx</td>\n",
       "      <td>float64</td>\n",
       "      <td>7908096</td>\n",
       "      <td>26</td>\n",
       "      <td>0</td>\n",
       "    </tr>\n",
       "    <tr>\n",
       "      <th>20</th>\n",
       "      <td>euribor3m</td>\n",
       "      <td>float64</td>\n",
       "      <td>7908096</td>\n",
       "      <td>316</td>\n",
       "      <td>0</td>\n",
       "    </tr>\n",
       "    <tr>\n",
       "      <th>21</th>\n",
       "      <td>nr.employed</td>\n",
       "      <td>float64</td>\n",
       "      <td>7908096</td>\n",
       "      <td>11</td>\n",
       "      <td>0</td>\n",
       "    </tr>\n",
       "    <tr>\n",
       "      <th>22</th>\n",
       "      <td>y</td>\n",
       "      <td>object</td>\n",
       "      <td>7908096</td>\n",
       "      <td>2</td>\n",
       "      <td>0</td>\n",
       "    </tr>\n",
       "  </tbody>\n",
       "</table>\n",
       "</div>"
      ],
      "text/plain": [
       "              Name   dtypes  Total value  Uniques  Missing/Blanks\n",
       "0       Unnamed: 0    int64      7908096  2636032               0\n",
       "1     Unnamed: 0.1    int64      7908096    41188               0\n",
       "2              age    int64      7908096       78               0\n",
       "3              job   object      7908096       12               0\n",
       "4          marital   object      7908096        4               0\n",
       "5        education   object      7908096        8               0\n",
       "6          default   object      7908096        3               0\n",
       "7          housing   object      7908096        3               0\n",
       "8             loan   object      7908096        3               0\n",
       "9          contact   object      7908096        2               0\n",
       "10           month   object      7908096       10               0\n",
       "11     day_of_week   object      7908096        5               0\n",
       "12        duration    int64      7908096     1544               0\n",
       "13        campaign    int64      7908096       42               0\n",
       "14           pdays    int64      7908096       27               0\n",
       "15        previous    int64      7908096        8               0\n",
       "16        poutcome   object      7908096        3               0\n",
       "17    emp.var.rate  float64      7908096       10               0\n",
       "18  cons.price.idx  float64      7908096       26               0\n",
       "19   cons.conf.idx  float64      7908096       26               0\n",
       "20       euribor3m  float64      7908096      316               0\n",
       "21     nr.employed  float64      7908096       11               0\n",
       "22               y   object      7908096        2               0"
      ]
     },
     "execution_count": 36,
     "metadata": {},
     "output_type": "execute_result"
    }
   ],
   "source": [
    "Data_Cleaning = resumetable(df)\n",
    "Data_Cleaning"
   ]
  },
  {
   "cell_type": "markdown",
   "metadata": {},
   "source": [
    "# Descriptive Statistics  (Analysis)"
   ]
  },
  {
   "cell_type": "code",
   "execution_count": 37,
   "metadata": {},
   "outputs": [
    {
     "data": {
      "text/html": [
       "<div>\n",
       "<style scoped>\n",
       "    .dataframe tbody tr th:only-of-type {\n",
       "        vertical-align: middle;\n",
       "    }\n",
       "\n",
       "    .dataframe tbody tr th {\n",
       "        vertical-align: top;\n",
       "    }\n",
       "\n",
       "    .dataframe thead th {\n",
       "        text-align: right;\n",
       "    }\n",
       "</style>\n",
       "<table border=\"1\" class=\"dataframe\">\n",
       "  <thead>\n",
       "    <tr style=\"text-align: right;\">\n",
       "      <th></th>\n",
       "      <th>Unnamed: 0</th>\n",
       "      <th>Unnamed: 0.1</th>\n",
       "      <th>age</th>\n",
       "      <th>duration</th>\n",
       "      <th>campaign</th>\n",
       "      <th>pdays</th>\n",
       "      <th>previous</th>\n",
       "      <th>emp.var.rate</th>\n",
       "      <th>cons.price.idx</th>\n",
       "      <th>cons.conf.idx</th>\n",
       "      <th>euribor3m</th>\n",
       "      <th>nr.employed</th>\n",
       "    </tr>\n",
       "  </thead>\n",
       "  <tbody>\n",
       "    <tr>\n",
       "      <th>count</th>\n",
       "      <td>7908096.000</td>\n",
       "      <td>7908096.000</td>\n",
       "      <td>7908096.000</td>\n",
       "      <td>7908096.000</td>\n",
       "      <td>7908096.000</td>\n",
       "      <td>7908096.000</td>\n",
       "      <td>7908096.000</td>\n",
       "      <td>7908096.000</td>\n",
       "      <td>7908096.000</td>\n",
       "      <td>7908096.000</td>\n",
       "      <td>7908096.000</td>\n",
       "      <td>7908096.000</td>\n",
       "    </tr>\n",
       "    <tr>\n",
       "      <th>mean</th>\n",
       "      <td>1318015.500</td>\n",
       "      <td>20593.500</td>\n",
       "      <td>40.024</td>\n",
       "      <td>258.285</td>\n",
       "      <td>2.568</td>\n",
       "      <td>962.475</td>\n",
       "      <td>0.173</td>\n",
       "      <td>0.082</td>\n",
       "      <td>93.576</td>\n",
       "      <td>-40.503</td>\n",
       "      <td>3.621</td>\n",
       "      <td>5167.036</td>\n",
       "    </tr>\n",
       "    <tr>\n",
       "      <th>std</th>\n",
       "      <td>760956.941</td>\n",
       "      <td>11889.952</td>\n",
       "      <td>10.421</td>\n",
       "      <td>259.276</td>\n",
       "      <td>2.770</td>\n",
       "      <td>186.909</td>\n",
       "      <td>0.495</td>\n",
       "      <td>1.571</td>\n",
       "      <td>0.579</td>\n",
       "      <td>4.628</td>\n",
       "      <td>1.734</td>\n",
       "      <td>72.251</td>\n",
       "    </tr>\n",
       "    <tr>\n",
       "      <th>min</th>\n",
       "      <td>0.000</td>\n",
       "      <td>0.000</td>\n",
       "      <td>17.000</td>\n",
       "      <td>0.000</td>\n",
       "      <td>1.000</td>\n",
       "      <td>0.000</td>\n",
       "      <td>0.000</td>\n",
       "      <td>-3.400</td>\n",
       "      <td>92.201</td>\n",
       "      <td>-50.800</td>\n",
       "      <td>0.634</td>\n",
       "      <td>4963.600</td>\n",
       "    </tr>\n",
       "    <tr>\n",
       "      <th>25%</th>\n",
       "      <td>659007.750</td>\n",
       "      <td>10296.750</td>\n",
       "      <td>32.000</td>\n",
       "      <td>102.000</td>\n",
       "      <td>1.000</td>\n",
       "      <td>999.000</td>\n",
       "      <td>0.000</td>\n",
       "      <td>-1.800</td>\n",
       "      <td>93.075</td>\n",
       "      <td>-42.700</td>\n",
       "      <td>1.344</td>\n",
       "      <td>5099.100</td>\n",
       "    </tr>\n",
       "    <tr>\n",
       "      <th>50%</th>\n",
       "      <td>1318015.500</td>\n",
       "      <td>20593.500</td>\n",
       "      <td>38.000</td>\n",
       "      <td>180.000</td>\n",
       "      <td>2.000</td>\n",
       "      <td>999.000</td>\n",
       "      <td>0.000</td>\n",
       "      <td>1.100</td>\n",
       "      <td>93.749</td>\n",
       "      <td>-41.800</td>\n",
       "      <td>4.857</td>\n",
       "      <td>5191.000</td>\n",
       "    </tr>\n",
       "    <tr>\n",
       "      <th>75%</th>\n",
       "      <td>1977023.250</td>\n",
       "      <td>30890.250</td>\n",
       "      <td>47.000</td>\n",
       "      <td>319.000</td>\n",
       "      <td>3.000</td>\n",
       "      <td>999.000</td>\n",
       "      <td>0.000</td>\n",
       "      <td>1.400</td>\n",
       "      <td>93.994</td>\n",
       "      <td>-36.400</td>\n",
       "      <td>4.961</td>\n",
       "      <td>5228.100</td>\n",
       "    </tr>\n",
       "    <tr>\n",
       "      <th>max</th>\n",
       "      <td>2636031.000</td>\n",
       "      <td>41187.000</td>\n",
       "      <td>98.000</td>\n",
       "      <td>4918.000</td>\n",
       "      <td>56.000</td>\n",
       "      <td>999.000</td>\n",
       "      <td>7.000</td>\n",
       "      <td>1.400</td>\n",
       "      <td>94.767</td>\n",
       "      <td>-26.900</td>\n",
       "      <td>5.045</td>\n",
       "      <td>5228.100</td>\n",
       "    </tr>\n",
       "  </tbody>\n",
       "</table>\n",
       "</div>"
      ],
      "text/plain": [
       "       Unnamed: 0  Unnamed: 0.1         age    duration    campaign  \\\n",
       "count 7908096.000   7908096.000 7908096.000 7908096.000 7908096.000   \n",
       "mean  1318015.500     20593.500      40.024     258.285       2.568   \n",
       "std    760956.941     11889.952      10.421     259.276       2.770   \n",
       "min         0.000         0.000      17.000       0.000       1.000   \n",
       "25%    659007.750     10296.750      32.000     102.000       1.000   \n",
       "50%   1318015.500     20593.500      38.000     180.000       2.000   \n",
       "75%   1977023.250     30890.250      47.000     319.000       3.000   \n",
       "max   2636031.000     41187.000      98.000    4918.000      56.000   \n",
       "\n",
       "            pdays    previous  emp.var.rate  cons.price.idx  cons.conf.idx  \\\n",
       "count 7908096.000 7908096.000   7908096.000     7908096.000    7908096.000   \n",
       "mean      962.475       0.173         0.082          93.576        -40.503   \n",
       "std       186.909       0.495         1.571           0.579          4.628   \n",
       "min         0.000       0.000        -3.400          92.201        -50.800   \n",
       "25%       999.000       0.000        -1.800          93.075        -42.700   \n",
       "50%       999.000       0.000         1.100          93.749        -41.800   \n",
       "75%       999.000       0.000         1.400          93.994        -36.400   \n",
       "max       999.000       7.000         1.400          94.767        -26.900   \n",
       "\n",
       "        euribor3m  nr.employed  \n",
       "count 7908096.000  7908096.000  \n",
       "mean        3.621     5167.036  \n",
       "std         1.734       72.251  \n",
       "min         0.634     4963.600  \n",
       "25%         1.344     5099.100  \n",
       "50%         4.857     5191.000  \n",
       "75%         4.961     5228.100  \n",
       "max         5.045     5228.100  "
      ]
     },
     "execution_count": 37,
     "metadata": {},
     "output_type": "execute_result"
    }
   ],
   "source": [
    "df.describe()"
   ]
  },
  {
   "cell_type": "markdown",
   "metadata": {},
   "source": [
    "## Four V’s of big data.\n",
    "Data Visualization.\n",
    "\n",
    "The different ways you visualized your data.\n",
    "\n",
    "I used Python programming language to visualize data. Python is free open source programming language.\n"
   ]
  },
  {
   "cell_type": "markdown",
   "metadata": {},
   "source": [
    "### Python\n",
    "* Seaborn - Is a free open source package that allows you to visualize Python data.\n",
    "* Matplotlib - and again, Matplotlib is a free open source package that allows you to visualize Python data."
   ]
  },
  {
   "cell_type": "markdown",
   "metadata": {},
   "source": [
    "### The type of visualization we are going to use:\n",
    "* Pie-chart - The pie chart is ideal for displaying proportional data or\n",
    "percentages. Since the pie chart shows the size ratio between the parts\n",
    "and the whole, the pieces must add up to a meaningful whole.\n",
    "\n",
    "* Multiple bar chart - The Multiple bar chart is the most effective tool\n",
    "for comparing objects and data across time. The column chart may\n",
    "show several numbers on the X and Y axes, as well as a breakdown\n",
    "by category on the Y axis."
   ]
  },
  {
   "cell_type": "markdown",
   "metadata": {},
   "source": [
    "### Volume"
   ]
  },
  {
   "cell_type": "markdown",
   "metadata": {},
   "source": [
    "The collected more than 2.6 million observations of from previous marketing data (1.2 GB\n",
    "of data) and every month on average they collected more than 20 thousand\n",
    "observations of loan application."
   ]
  },
  {
   "cell_type": "code",
   "execution_count": 38,
   "metadata": {},
   "outputs": [],
   "source": [
    "df = pd.read_csv(\"C:/Users/eddie/Desktop/Exams/Exam 805/Python/bank_additional_full_results_week_day.csv\",sep =',')"
   ]
  },
  {
   "cell_type": "code",
   "execution_count": 15,
   "metadata": {},
   "outputs": [
    {
     "data": {
      "image/png": "[encoded data removed]",
      "text/plain": [
       "<Figure size 576x432 with 1 Axes>"
      ]
     },
     "metadata": {
      "needs_background": "light"
     },
     "output_type": "display_data"
    }
   ],
   "source": [
    "df[\"Suscriptions\"] = df[\"y\"]\n",
    "# Show Plot\n",
    "plt.figure(figsize=(8,6))\n",
    "palette = [\"#FA5858\", \"#64FE2E\"]\n",
    "ax = sns.barplot(x=df[\"day_of_week\"], y=df[\"duration\"],hue=\"Suscriptions\", data=df, palette=palette, estimator=lambda x: len(x) )\n",
    "ax.set(xlabel='Day of week', ylabel='Number of contacted customers')\n",
    "plt.show()"
   ]
  },
  {
   "cell_type": "markdown",
   "metadata": {},
   "source": [
    "The graph shows that on average 70 000 customers Open Term suscriptions on week days."
   ]
  },
  {
   "cell_type": "code",
   "execution_count": 39,
   "metadata": {},
   "outputs": [],
   "source": [
    "#df = pd.read_csv(\"C:/Users/eddie/Desktop/Exams/Exam 805/Python/bank_additional_full_results_month.csv\",sep =',')"
   ]
  },
  {
   "cell_type": "code",
   "execution_count": 42,
   "metadata": {},
   "outputs": [
    {
     "data": {
      "text/plain": [
       "(7908096, 23)"
      ]
     },
     "execution_count": 42,
     "metadata": {},
     "output_type": "execute_result"
    }
   ],
   "source": [
    "df.shape"
   ]
  },
  {
   "cell_type": "code",
   "execution_count": 44,
   "metadata": {},
   "outputs": [
    {
     "data": {
      "image/png": "[encoded data removed]",
      "text/plain": [
       "<Figure size 576x432 with 1 Axes>"
      ]
     },
     "metadata": {
      "needs_background": "light"
     },
     "output_type": "display_data"
    }
   ],
   "source": [
    "df[\"Suscriptions\"] = df[\"y\"]\n",
    "plt.figure(figsize=(8,6))\n",
    "palette = [\"#FA5858\", \"#64FE2E\"]\n",
    "ax = sns.barplot(x=df[\"month\"], y=df[\"duration\"],hue=df[\"Suscriptions\"], data=df, palette=palette, estimator=lambda x: len(x) )\n",
    "ax.set(xlabel='Month', ylabel='Number of contacted customers')\n",
    "plt.show()"
   ]
  },
  {
   "cell_type": "markdown",
   "metadata": {},
   "source": [
    "The graph shows that more customers was target in May. Where the bank generated more data."
   ]
  },
  {
   "cell_type": "markdown",
   "metadata": {},
   "source": [
    "### Variety"
   ]
  },
  {
   "cell_type": "markdown",
   "metadata": {},
   "source": [
    "The dataset is structured data which fit well in a relational database and\n",
    "is easy to do data mining, storage and analyzing data. The data include\n",
    "features like age, job, week_day, duration and deposit.\n",
    "Data can be categorized in the following groups:"
   ]
  },
  {
   "cell_type": "code",
   "execution_count": 50,
   "metadata": {},
   "outputs": [],
   "source": [
    "#df = pd.read_csv(\"C:/Users/eddie/Desktop/Exams/Exam 805/Python/bank_additional_full_results_job.csv\",sep =',')"
   ]
  },
  {
   "cell_type": "code",
   "execution_count": 51,
   "metadata": {},
   "outputs": [
    {
     "data": {
      "image/png": "[encoded data removed]",
      "text/plain": [
       "<Figure size 1152x432 with 1 Axes>"
      ]
     },
     "metadata": {
      "needs_background": "light"
     },
     "output_type": "display_data"
    }
   ],
   "source": [
    "## Cross table\n",
    "feature = pd.crosstab(df['job'],df['Suscriptions'],normalize='index')\n",
    "##\n",
    "colors_list = [\"#FA5858\", \"#64FE2E\"]\n",
    "# Change this line to plot percentages instead of absolute values\n",
    "ax = (feature.div(feature.sum(1), axis=0)).plot(kind='bar',stacked=False,figsize=(16,6),width = 0.8,color = colors_list)\n",
    "plt.title(\"Distribution of Suscriptions by Job\",fontsize= 16)\n",
    "plt.xlabel('Job')\n",
    "\n",
    "plt.xticks(fontsize=14)\n",
    "for spine in plt.gca().spines.values():\n",
    "    spine.set_visible(False)\n",
    "plt.yticks([])\n",
    "\n",
    "# Add this loop to add the annotations\n",
    "for p in ax.patches:\n",
    "    width, height = p.get_width(), p.get_height()\n",
    "    x, y = p.get_xy() \n",
    "    ax.annotate('{:.0%}'.format(height), (x, y + height + 0.01))"
   ]
  },
  {
   "cell_type": "markdown",
   "metadata": {},
   "source": [
    "The graph shows that students and retired customers made more deposit compare to others job group."
   ]
  },
  {
   "cell_type": "code",
   "execution_count": 52,
   "metadata": {},
   "outputs": [],
   "source": [
    "# df = pd.read_csv(\"C:/Users/eddie/Desktop/Exams/Exam 805/Python/bank_additional_full_results_education.csv\",sep =',')"
   ]
  },
  {
   "cell_type": "code",
   "execution_count": 53,
   "metadata": {},
   "outputs": [
    {
     "data": {
      "image/png": "[encoded data removed]",
      "text/plain": [
       "<Figure size 1152x432 with 1 Axes>"
      ]
     },
     "metadata": {
      "needs_background": "light"
     },
     "output_type": "display_data"
    }
   ],
   "source": [
    "## Cross table\n",
    "feature = pd.crosstab(df['education'],df['Suscriptions'],normalize='index')\n",
    "##\n",
    "colors_list = [\"#FA5858\", \"#64FE2E\"]\n",
    "# Change this line to plot percentages instead of absolute values\n",
    "ax = (feature.div(feature.sum(1), axis=0)).plot(kind='bar',stacked=False,figsize=(16,6),width = 0.8,color = colors_list)\n",
    "plt.title(\"Distribution of Suscriptions by Education\",fontsize= 16)\n",
    "plt.xlabel('Education')\n",
    "\n",
    "plt.xticks(fontsize=14)\n",
    "for spine in plt.gca().spines.values():\n",
    "    spine.set_visible(False)\n",
    "plt.yticks([])\n",
    "\n",
    "# Add this loop to add the annotations\n",
    "for p in ax.patches:\n",
    "    width, height = p.get_width(), p.get_height()\n",
    "    x, y = p.get_xy() \n",
    "    ax.annotate('{:.0%}'.format(height), (x, y + height + 0.01))"
   ]
  },
  {
   "cell_type": "markdown",
   "metadata": {},
   "source": [
    "The graph shows that Illerate customers made more deposit compare to others education group."
   ]
  },
  {
   "cell_type": "markdown",
   "metadata": {},
   "source": [
    "### Veracity"
   ]
  },
  {
   "cell_type": "markdown",
   "metadata": {},
   "source": [
    "The dataset assumes to be clean and accurate as it does not have missing data as\n",
    "most of the data is collected at the application and they verify information\n",
    "with internal parties to get feature other features."
   ]
  },
  {
   "cell_type": "code",
   "execution_count": 54,
   "metadata": {},
   "outputs": [
    {
     "name": "stdout",
     "output_type": "stream",
     "text": [
      "Dataset Shape: (7908096, 24)\n"
     ]
    },
    {
     "data": {
      "text/html": [
       "<div>\n",
       "<style scoped>\n",
       "    .dataframe tbody tr th:only-of-type {\n",
       "        vertical-align: middle;\n",
       "    }\n",
       "\n",
       "    .dataframe tbody tr th {\n",
       "        vertical-align: top;\n",
       "    }\n",
       "\n",
       "    .dataframe thead th {\n",
       "        text-align: right;\n",
       "    }\n",
       "</style>\n",
       "<table border=\"1\" class=\"dataframe\">\n",
       "  <thead>\n",
       "    <tr style=\"text-align: right;\">\n",
       "      <th></th>\n",
       "      <th>Name</th>\n",
       "      <th>dtypes</th>\n",
       "      <th>Total value</th>\n",
       "      <th>Uniques</th>\n",
       "      <th>Missing/Blanks</th>\n",
       "    </tr>\n",
       "  </thead>\n",
       "  <tbody>\n",
       "    <tr>\n",
       "      <th>0</th>\n",
       "      <td>Unnamed: 0</td>\n",
       "      <td>int64</td>\n",
       "      <td>7908096</td>\n",
       "      <td>2636032</td>\n",
       "      <td>0</td>\n",
       "    </tr>\n",
       "    <tr>\n",
       "      <th>1</th>\n",
       "      <td>Unnamed: 0.1</td>\n",
       "      <td>int64</td>\n",
       "      <td>7908096</td>\n",
       "      <td>41188</td>\n",
       "      <td>0</td>\n",
       "    </tr>\n",
       "    <tr>\n",
       "      <th>2</th>\n",
       "      <td>age</td>\n",
       "      <td>int64</td>\n",
       "      <td>7908096</td>\n",
       "      <td>78</td>\n",
       "      <td>0</td>\n",
       "    </tr>\n",
       "    <tr>\n",
       "      <th>3</th>\n",
       "      <td>job</td>\n",
       "      <td>object</td>\n",
       "      <td>7908096</td>\n",
       "      <td>12</td>\n",
       "      <td>0</td>\n",
       "    </tr>\n",
       "    <tr>\n",
       "      <th>4</th>\n",
       "      <td>marital</td>\n",
       "      <td>object</td>\n",
       "      <td>7908096</td>\n",
       "      <td>4</td>\n",
       "      <td>0</td>\n",
       "    </tr>\n",
       "    <tr>\n",
       "      <th>5</th>\n",
       "      <td>education</td>\n",
       "      <td>object</td>\n",
       "      <td>7908096</td>\n",
       "      <td>8</td>\n",
       "      <td>0</td>\n",
       "    </tr>\n",
       "    <tr>\n",
       "      <th>6</th>\n",
       "      <td>default</td>\n",
       "      <td>object</td>\n",
       "      <td>7908096</td>\n",
       "      <td>3</td>\n",
       "      <td>0</td>\n",
       "    </tr>\n",
       "    <tr>\n",
       "      <th>7</th>\n",
       "      <td>housing</td>\n",
       "      <td>object</td>\n",
       "      <td>7908096</td>\n",
       "      <td>3</td>\n",
       "      <td>0</td>\n",
       "    </tr>\n",
       "    <tr>\n",
       "      <th>8</th>\n",
       "      <td>loan</td>\n",
       "      <td>object</td>\n",
       "      <td>7908096</td>\n",
       "      <td>3</td>\n",
       "      <td>0</td>\n",
       "    </tr>\n",
       "    <tr>\n",
       "      <th>9</th>\n",
       "      <td>contact</td>\n",
       "      <td>object</td>\n",
       "      <td>7908096</td>\n",
       "      <td>2</td>\n",
       "      <td>0</td>\n",
       "    </tr>\n",
       "    <tr>\n",
       "      <th>10</th>\n",
       "      <td>month</td>\n",
       "      <td>object</td>\n",
       "      <td>7908096</td>\n",
       "      <td>10</td>\n",
       "      <td>0</td>\n",
       "    </tr>\n",
       "    <tr>\n",
       "      <th>11</th>\n",
       "      <td>day_of_week</td>\n",
       "      <td>object</td>\n",
       "      <td>7908096</td>\n",
       "      <td>5</td>\n",
       "      <td>0</td>\n",
       "    </tr>\n",
       "    <tr>\n",
       "      <th>12</th>\n",
       "      <td>duration</td>\n",
       "      <td>int64</td>\n",
       "      <td>7908096</td>\n",
       "      <td>1544</td>\n",
       "      <td>0</td>\n",
       "    </tr>\n",
       "    <tr>\n",
       "      <th>13</th>\n",
       "      <td>campaign</td>\n",
       "      <td>int64</td>\n",
       "      <td>7908096</td>\n",
       "      <td>42</td>\n",
       "      <td>0</td>\n",
       "    </tr>\n",
       "    <tr>\n",
       "      <th>14</th>\n",
       "      <td>pdays</td>\n",
       "      <td>int64</td>\n",
       "      <td>7908096</td>\n",
       "      <td>27</td>\n",
       "      <td>0</td>\n",
       "    </tr>\n",
       "    <tr>\n",
       "      <th>15</th>\n",
       "      <td>previous</td>\n",
       "      <td>int64</td>\n",
       "      <td>7908096</td>\n",
       "      <td>8</td>\n",
       "      <td>0</td>\n",
       "    </tr>\n",
       "    <tr>\n",
       "      <th>16</th>\n",
       "      <td>poutcome</td>\n",
       "      <td>object</td>\n",
       "      <td>7908096</td>\n",
       "      <td>3</td>\n",
       "      <td>0</td>\n",
       "    </tr>\n",
       "    <tr>\n",
       "      <th>17</th>\n",
       "      <td>emp.var.rate</td>\n",
       "      <td>float64</td>\n",
       "      <td>7908096</td>\n",
       "      <td>10</td>\n",
       "      <td>0</td>\n",
       "    </tr>\n",
       "    <tr>\n",
       "      <th>18</th>\n",
       "      <td>cons.price.idx</td>\n",
       "      <td>float64</td>\n",
       "      <td>7908096</td>\n",
       "      <td>26</td>\n",
       "      <td>0</td>\n",
       "    </tr>\n",
       "    <tr>\n",
       "      <th>19</th>\n",
       "      <td>cons.conf.idx</td>\n",
       "      <td>float64</td>\n",
       "      <td>7908096</td>\n",
       "      <td>26</td>\n",
       "      <td>0</td>\n",
       "    </tr>\n",
       "    <tr>\n",
       "      <th>20</th>\n",
       "      <td>euribor3m</td>\n",
       "      <td>float64</td>\n",
       "      <td>7908096</td>\n",
       "      <td>316</td>\n",
       "      <td>0</td>\n",
       "    </tr>\n",
       "    <tr>\n",
       "      <th>21</th>\n",
       "      <td>nr.employed</td>\n",
       "      <td>float64</td>\n",
       "      <td>7908096</td>\n",
       "      <td>11</td>\n",
       "      <td>0</td>\n",
       "    </tr>\n",
       "    <tr>\n",
       "      <th>22</th>\n",
       "      <td>y</td>\n",
       "      <td>object</td>\n",
       "      <td>7908096</td>\n",
       "      <td>2</td>\n",
       "      <td>0</td>\n",
       "    </tr>\n",
       "    <tr>\n",
       "      <th>23</th>\n",
       "      <td>Suscriptions</td>\n",
       "      <td>object</td>\n",
       "      <td>7908096</td>\n",
       "      <td>2</td>\n",
       "      <td>0</td>\n",
       "    </tr>\n",
       "  </tbody>\n",
       "</table>\n",
       "</div>"
      ],
      "text/plain": [
       "              Name   dtypes  Total value  Uniques  Missing/Blanks\n",
       "0       Unnamed: 0    int64      7908096  2636032               0\n",
       "1     Unnamed: 0.1    int64      7908096    41188               0\n",
       "2              age    int64      7908096       78               0\n",
       "3              job   object      7908096       12               0\n",
       "4          marital   object      7908096        4               0\n",
       "5        education   object      7908096        8               0\n",
       "6          default   object      7908096        3               0\n",
       "7          housing   object      7908096        3               0\n",
       "8             loan   object      7908096        3               0\n",
       "9          contact   object      7908096        2               0\n",
       "10           month   object      7908096       10               0\n",
       "11     day_of_week   object      7908096        5               0\n",
       "12        duration    int64      7908096     1544               0\n",
       "13        campaign    int64      7908096       42               0\n",
       "14           pdays    int64      7908096       27               0\n",
       "15        previous    int64      7908096        8               0\n",
       "16        poutcome   object      7908096        3               0\n",
       "17    emp.var.rate  float64      7908096       10               0\n",
       "18  cons.price.idx  float64      7908096       26               0\n",
       "19   cons.conf.idx  float64      7908096       26               0\n",
       "20       euribor3m  float64      7908096      316               0\n",
       "21     nr.employed  float64      7908096       11               0\n",
       "22               y   object      7908096        2               0\n",
       "23    Suscriptions   object      7908096        2               0"
      ]
     },
     "execution_count": 54,
     "metadata": {},
     "output_type": "execute_result"
    }
   ],
   "source": [
    "Data_Cleaning = resumetable(df)\n",
    "Data_Cleaning"
   ]
  },
  {
   "cell_type": "markdown",
   "metadata": {},
   "source": [
    "### Value"
   ]
  },
  {
   "cell_type": "markdown",
   "metadata": {},
   "source": [
    "The dataset generate value to the Bank Marketing Campaign as they do marketing campaign to get customers to make Term Deposit which is often better than just opening deposit account. as the money stay long in the bank.\n"
   ]
  },
  {
   "cell_type": "code",
   "execution_count": 55,
   "metadata": {},
   "outputs": [],
   "source": [
    "#df = pd.read_csv(\"C:/Users/eddie/Desktop/Exams/Exam 805/Python/bank_additional_full_results_value.csv\",sep =',')"
   ]
  },
  {
   "cell_type": "code",
   "execution_count": 56,
   "metadata": {},
   "outputs": [
    {
     "data": {
      "text/plain": [
       "<AxesSubplot:ylabel='y'>"
      ]
     },
     "execution_count": 56,
     "metadata": {},
     "output_type": "execute_result"
    },
    {
     "data": {
      "image/png": "[encoded data removed]",
      "text/plain": [
       "<Figure size 576x432 with 1 Axes>"
      ]
     },
     "metadata": {},
     "output_type": "display_data"
    }
   ],
   "source": [
    "#f, ax = plt.subplots(2,figsize=(6,4))\n",
    "plt.figure(figsize=(8,6))\n",
    "colors = [\"#FA5858\", \"#64FE2E\"]\n",
    "labels =\"Did not Open Term Suscriptions\", \"Opened Term Suscriptions\"\n",
    "\n",
    "plt.suptitle('Information on Term Suscriptions', fontsize=20)\n",
    "df[\"y\"].value_counts().plot.pie(explode=[0,0.25], autopct='%1.1f%%',shadow=True, colors=colors, \n",
    "                                             labels=labels, fontsize=12, startangle=70)"
   ]
  },
  {
   "cell_type": "markdown",
   "metadata": {},
   "source": [
    "The campaign was successful as 11.3% of opened the Term Suscription. which create value to the to the bank."
   ]
  },
  {
   "cell_type": "code",
   "execution_count": null,
   "metadata": {},
   "outputs": [],
   "source": []
  }
 ],
 "metadata": {
  "kernelspec": {
   "display_name": "Python 3",
   "language": "python",
   "name": "python3"
  },
  "language_info": {
   "codemirror_mode": {
    "name": "ipython",
    "version": 3
   },
   "file_extension": ".py",
   "mimetype": "text/x-python",
   "name": "python",
   "nbconvert_exporter": "python",
   "pygments_lexer": "ipython3",
   "version": "3.8.5"
  }
 },
 "nbformat": 4,
 "nbformat_minor": 4
}
